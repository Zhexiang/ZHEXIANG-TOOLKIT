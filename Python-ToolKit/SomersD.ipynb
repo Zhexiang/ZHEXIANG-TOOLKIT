{
 "cells": [
  {
   "cell_type": "code",
   "execution_count": 1,
   "metadata": {},
   "outputs": [],
   "source": [
    "import numpy as np\n",
    "import pandas as pd\n",
    "import matplotlib.pyplot as plt\n",
    "%matplotlib inline"
   ]
  },
  {
   "cell_type": "markdown",
   "metadata": {},
   "source": [
    "### Somers' D\n",
    "\n",
    "##### This code is used to calculate Somers' D for binary dependent variables, which is defined as"
   ]
  },
  {
   "cell_type": "markdown",
   "metadata": {},
   "source": [
    "<img src='PNG/SomersD.PNG'>"
   ]
  },
  {
   "cell_type": "markdown",
   "metadata": {},
   "source": [
    " where\n",
    "- Nc is the number of \"concordant\" pair if the obs with target variable 1 has higher score compared with obs with target variable 0; \n",
    "- Nd is the number of \"disconcordant\" pair if the obs with target variable 1 has lower score compared with obs with target variable 0; \n",
    "- Nt is the number of \"tie\" pair if obs with target variable 1 has equal score with obs with target variable 0."
   ]
  },
  {
   "cell_type": "markdown",
   "metadata": {},
   "source": [
    "Based on the definition, it is computationally expensive to calculate Somers' D. Mathematically, Somers' D is equal to Gini coefficient. Calculate Gini coefficient is much more easier as below:"
   ]
  },
  {
   "cell_type": "markdown",
   "metadata": {},
   "source": [
    "<img src='PNG/Gini.PNG'>"
   ]
  },
  {
   "cell_type": "markdown",
   "metadata": {},
   "source": [
    "where\n",
    "- cum% of event i = (num of obs with target = 1 from bin 1 to bin i)/(total num of obs with target = 1)\n",
    "- cum% of noevent i = (num of obs with target = 0 from bin 1 to bin i)/(total num of obs with target = 0)"
   ]
  },
  {
   "cell_type": "code",
   "execution_count": 36,
   "metadata": {},
   "outputs": [],
   "source": [
    "def SomersD(df, score, target, num_buckets):\n",
    "\n",
    "# Parameter Instruction:\n",
    "    # df: Pandas DataFrame, which includes one model score column and one true target column\n",
    "    # score: model score column\n",
    "    # target: true target column\n",
    "    # num_buckets: number of buckets\n",
    "\n",
    "    # Step1: Threshold of each bucket\n",
    "    base = [0]\n",
    "    for i in range(1, num_buckets):\n",
    "        base.append(np.percentile(df[score], (100/num_buckets)*i))\n",
    "    base.append(i)\n",
    "\n",
    "    # Step2: Cum # of events vs. no-events in each bucket\n",
    "    event = []\n",
    "    noevent = []\n",
    "    for i in range(0, num_buckets + 1):\n",
    "        event_i = df[df[score] <= base[i]][target].sum()\n",
    "        noevent_i = df[df[score] <= base[i]][target].count() - df[df[score] <= base[i]][target].sum()\n",
    "        event.append(event_i)\n",
    "        noevent.append(noevent_i)\n",
    "\n",
    "    df_temp = pd.DataFrame([noevent, event]).T\n",
    "\n",
    "    # Step3: Cum % of events vs. no-events in each bucket\n",
    "    df_temp['event'] = df_temp[1]/event[num_buckets]\n",
    "    df_temp['noevent'] = df_temp[0]/noevent[num_buckets]\n",
    "    total = 0\n",
    "    for i in range(1, num_buckets + 1):\n",
    "        total += (df_temp['event'][i] + df_temp['event'][i-1])*(df_temp['noevent'][i] - df_temp['noevent'][i-1])\n",
    "\n",
    "    # Step4: Calculate Somers'D and plot\n",
    "    SomersD = 1- total\n",
    "    f, ax = plt.subplots(figsize=(6, 6))\n",
    "    plt.bar(range(0, num_buckets+1), df_temp['event'])\n",
    "    plt.ylabel(\"Bad%\")\n",
    "    plt.xlabel(\"Bucket\")\n",
    "    plt.title(\"Somers' D is \" + str(SomersD))\n",
    "\n",
    "    ax.set(xlim=(0, num_buckets), ylim=(0, 1))\n",
    "    ax.plot(ax.get_xlim(), ax.get_ylim(), ls=\"--\", c=\".3\")"
   ]
  },
  {
   "cell_type": "markdown",
   "metadata": {},
   "source": [
    "##### Example"
   ]
  },
  {
   "cell_type": "code",
   "execution_count": 41,
   "metadata": {},
   "outputs": [
    {
     "data": {
      "text/html": [
       "<div>\n",
       "<style scoped>\n",
       "    .dataframe tbody tr th:only-of-type {\n",
       "        vertical-align: middle;\n",
       "    }\n",
       "\n",
       "    .dataframe tbody tr th {\n",
       "        vertical-align: top;\n",
       "    }\n",
       "\n",
       "    .dataframe thead th {\n",
       "        text-align: right;\n",
       "    }\n",
       "</style>\n",
       "<table border=\"1\" class=\"dataframe\">\n",
       "  <thead>\n",
       "    <tr style=\"text-align: right;\">\n",
       "      <th></th>\n",
       "      <th>score</th>\n",
       "      <th>target</th>\n",
       "    </tr>\n",
       "  </thead>\n",
       "  <tbody>\n",
       "    <tr>\n",
       "      <th>0</th>\n",
       "      <td>0.312767</td>\n",
       "      <td>1</td>\n",
       "    </tr>\n",
       "    <tr>\n",
       "      <th>1</th>\n",
       "      <td>0.540243</td>\n",
       "      <td>1</td>\n",
       "    </tr>\n",
       "    <tr>\n",
       "      <th>2</th>\n",
       "      <td>0.000057</td>\n",
       "      <td>0</td>\n",
       "    </tr>\n",
       "    <tr>\n",
       "      <th>3</th>\n",
       "      <td>0.226749</td>\n",
       "      <td>1</td>\n",
       "    </tr>\n",
       "    <tr>\n",
       "      <th>4</th>\n",
       "      <td>0.110067</td>\n",
       "      <td>1</td>\n",
       "    </tr>\n",
       "  </tbody>\n",
       "</table>\n",
       "</div>"
      ],
      "text/plain": [
       "      score  target\n",
       "0  0.312767       1\n",
       "1  0.540243       1\n",
       "2  0.000057       0\n",
       "3  0.226749       1\n",
       "4  0.110067       1"
      ]
     },
     "execution_count": 41,
     "metadata": {},
     "output_type": "execute_result"
    }
   ],
   "source": [
    "np.random.seed(1)\n",
    "df_score = pd.DataFrame(np.random.rand(1000)/2, columns = ['score'])\n",
    "df_target = pd.DataFrame(np.random.randint(low=0, high=2, size=1000), columns = ['target'])\n",
    "df = df_score.merge(df_target, left_index=True, right_index=True)\n",
    "\n",
    "df['score'] = np.where(df['target']==1, df['score']*1.5, df['score'])\n",
    "df.head()"
   ]
  },
  {
   "cell_type": "code",
   "execution_count": 42,
   "metadata": {},
   "outputs": [
    {
     "data": {
      "image/png": "[encoded data removed]",
      "text/plain": [
       "<matplotlib.figure.Figure at 0x1d32c73aeb8>"
      ]
     },
     "metadata": {},
     "output_type": "display_data"
    }
   ],
   "source": [
    "SomersD(num_buckets = 100\n",
    "        ,df = df\n",
    "        ,score = 'score'\n",
    "        ,target = 'target')"
   ]
  }
 ],
 "metadata": {
  "kernelspec": {
   "display_name": "Python 3",
   "language": "python",
   "name": "python3"
  },
  "language_info": {
   "codemirror_mode": {
    "name": "ipython",
    "version": 3
   },
   "file_extension": ".py",
   "mimetype": "text/x-python",
   "name": "python",
   "nbconvert_exporter": "python",
   "pygments_lexer": "ipython3",
   "version": "3.6.4"
  }
 },
 "nbformat": 4,
 "nbformat_minor": 2
}
