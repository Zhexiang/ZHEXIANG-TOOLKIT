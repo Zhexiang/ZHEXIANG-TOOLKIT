{
 "cells": [
  {
   "cell_type": "code",
   "execution_count": 1,
   "metadata": {},
   "outputs": [],
   "source": [
    "import numpy as np\n",
    "import pandas as pd\n",
    "import matplotlib.pyplot as plt\n",
    "%matplotlib inline"
   ]
  },
  {
   "cell_type": "markdown",
   "metadata": {},
   "source": [
    "### Somers' D\n",
    "\n",
    "##### This code is used to calculate Somers' D for binary dependent variables, which is defined as"
   ]
  },
  {
   "cell_type": "markdown",
   "metadata": {},
   "source": [
    "<img src='PNG/SomersD.PNG'>"
   ]
  },
  {
   "cell_type": "markdown",
   "metadata": {},
   "source": [
    " where\n",
    "- Nc is the number of \"concordant\" pair if the obs with target variable 1 has higher score compared with obs with target variable 0; \n",
    "- Nd is the number of \"disconcordant\" pair if the obs with target variable 1 has lower score compared with obs with target variable 0; \n",
    "- Nt is the number of \"tie\" pair if obs with target variable 1 has equal score with obs with target variable 0."
   ]
  },
  {
   "cell_type": "markdown",
   "metadata": {},
   "source": [
    "Based on the definition, it is computationally expensive to calculate Somers' D. Mathematically, Somers' D is equal to Gini coefficient. Calculate Gini coefficient is much more easier as below:"
   ]
  },
  {
   "cell_type": "markdown",
   "metadata": {},
   "source": [
    "<img src='PNG/Gini.PNG'>"
   ]
  },
  {
   "cell_type": "markdown",
   "metadata": {},
   "source": [
    "where\n",
    "- cum% of event i = (num of obs with target = 1 from bin 1 to bin i)/(total num of obs with target = 1)\n",
    "- cum% of noevent i = (num of obs with target = 0 from bin 1 to bin i)/(total num of obs with target = 0)"
   ]
  },
  {
   "cell_type": "code",
   "execution_count": 2,
   "metadata": {},
   "outputs": [],
   "source": [
    "def SomersD(df, score, target, num_buckets):\n",
    "\n",
    "# Parameter Instruction:\n",
    "    # df: Pandas DataFrame, which includes one model score column and one true target column\n",
    "    # score: model score column\n",
    "    # target: true target column\n",
    "    # num_buckets: number of buckets\n",
    "\n",
    "    \n",
    "    # Step1: Threshold of each bucket\n",
    "    base = [0]\n",
    "    for i in range(1, num_buckets):\n",
    "        base.append(np.percentile(df[score], (100/num_buckets)*i))\n",
    "    base.append(i)\n",
    "\n",
    "    \n",
    "    # Step2: Cum # of events vs. no-events in each bucket\n",
    "    event = []\n",
    "    noevent = []\n",
    "    for i in range(0, num_buckets + 1):\n",
    "        event_i = df[df[score] <= base[i]][target].sum()\n",
    "        noevent_i = df[df[score] <= base[i]][target].count() - df[df[score] <= base[i]][target].sum()\n",
    "        event.append(event_i)\n",
    "        noevent.append(noevent_i)\n",
    "    \n",
    "    df_temp = pd.DataFrame([noevent, event]).T\n",
    "\n",
    "    \n",
    "    # Step3: Cum % of events vs. no-events in each bucket\n",
    "    df_temp['cum_event'] = df_temp[1]/event[num_buckets]\n",
    "    df_temp['cum_noevent'] = df_temp[0]/noevent[num_buckets]\n",
    "    total = 0\n",
    "    cum_event_r = [0]\n",
    "    for i in range(1, num_buckets + 1):\n",
    "        # Somers'D\n",
    "        total += (df_temp['cum_event'][i] + df_temp['cum_event'][i-1])*(df_temp['cum_noevent'][i] - df_temp['cum_noevent'][i-1])\n",
    "\n",
    "        # Bucket bad% \n",
    "        df_temp['cum_event0'] = df_temp['cum_event'].shift(1)\n",
    "        df_temp = df_temp.fillna(0)\n",
    "        df_temp['event'] = df_temp['cum_event'] - df_temp['cum_event0']\n",
    "        df_temp = df_temp.drop(columns = ['cum_event0'])\n",
    "\n",
    "        # Cumulative bad% Coverage\n",
    "        df_temp0 = pd.DataFrame(df_temp['event'].iloc[::-1]).reset_index()\n",
    "        df_temp0.drop(columns = ['index'], inplace = True)\n",
    "        df_temp0.rename(columns={\"event\": \"event_r\"}, inplace = True)\n",
    "        df_final = df_temp.merge(df_temp0, left_index=True, right_index=True)\n",
    "        df_final['event_r'] = df_final['event_r'].shift(1)\n",
    "        df_final = df_final.fillna(0)\n",
    "        cum_event_r_i = sum(df_final['event_r'][0:i+1])\n",
    "        cum_event_r.append(cum_event_r_i)\n",
    "\n",
    "    df_final['cum_event_r'] = pd.DataFrame(cum_event_r)\n",
    "\n",
    "    \n",
    "    # Step4: Calculate Somers'D and plot\n",
    "    SomersD = 1- total\n",
    "        # Cumulative bad% Coverage plot\n",
    "    f, ax = plt.subplots(figsize=(6, 6))\n",
    "    plt.plot(range(0, num_buckets+1), df_final['cum_event_r'])\n",
    "    plt.ylabel(\"Cumulative Bad%\")\n",
    "    plt.xlabel(\"Bucket\")\n",
    "    plt.title(\"Somers' D is \" + str(SomersD))\n",
    "\n",
    "    ax.set(xlim=(0, num_buckets), ylim=(0, 1))\n",
    "    ax.plot(ax.get_xlim(), ax.get_ylim(), ls=\"--\", c=\".3\")\n",
    "    \n",
    "        # Bucket bad% plot\n",
    "    plt.figure(figsize=(6, 6))\n",
    "    plt.subplot()\n",
    "    plt.plot(range(0, num_buckets+1), df_temp['event'])\n",
    "    plt.title(\"Somers' D is \" + str(SomersD))    "
   ]
  },
  {
   "cell_type": "markdown",
   "metadata": {},
   "source": [
    "##### Example"
   ]
  },
  {
   "cell_type": "code",
   "execution_count": 3,
   "metadata": {},
   "outputs": [
    {
     "data": {
      "text/html": [
       "<div>\n",
       "<style scoped>\n",
       "    .dataframe tbody tr th:only-of-type {\n",
       "        vertical-align: middle;\n",
       "    }\n",
       "\n",
       "    .dataframe tbody tr th {\n",
       "        vertical-align: top;\n",
       "    }\n",
       "\n",
       "    .dataframe thead th {\n",
       "        text-align: right;\n",
       "    }\n",
       "</style>\n",
       "<table border=\"1\" class=\"dataframe\">\n",
       "  <thead>\n",
       "    <tr style=\"text-align: right;\">\n",
       "      <th></th>\n",
       "      <th>score</th>\n",
       "      <th>target</th>\n",
       "    </tr>\n",
       "  </thead>\n",
       "  <tbody>\n",
       "    <tr>\n",
       "      <th>995</th>\n",
       "      <td>0.0822</td>\n",
       "      <td>1</td>\n",
       "    </tr>\n",
       "    <tr>\n",
       "      <th>996</th>\n",
       "      <td>0.0339</td>\n",
       "      <td>0</td>\n",
       "    </tr>\n",
       "    <tr>\n",
       "      <th>997</th>\n",
       "      <td>0.0405</td>\n",
       "      <td>0</td>\n",
       "    </tr>\n",
       "    <tr>\n",
       "      <th>998</th>\n",
       "      <td>0.0911</td>\n",
       "      <td>1</td>\n",
       "    </tr>\n",
       "    <tr>\n",
       "      <th>999</th>\n",
       "      <td>0.0707</td>\n",
       "      <td>1</td>\n",
       "    </tr>\n",
       "  </tbody>\n",
       "</table>\n",
       "</div>"
      ],
      "text/plain": [
       "      score  target\n",
       "995  0.0822       1\n",
       "996  0.0339       0\n",
       "997  0.0405       0\n",
       "998  0.0911       1\n",
       "999  0.0707       1"
      ]
     },
     "execution_count": 3,
     "metadata": {},
     "output_type": "execute_result"
    }
   ],
   "source": [
    "df = pd.read_csv(\"DATA/SomersD.csv\")\n",
    "df['target'] = df['target'].map(lambda x: int(x))\n",
    "df.tail()"
   ]
  },
  {
   "cell_type": "code",
   "execution_count": 4,
   "metadata": {},
   "outputs": [
    {
     "data": {
      "image/png": "[encoded data removed]",
      "text/plain": [
       "<matplotlib.figure.Figure at 0x191c17600b8>"
      ]
     },
     "metadata": {},
     "output_type": "display_data"
    },
    {
     "data": {
      "image/png": "[encoded data removed]",
      "text/plain": [
       "<matplotlib.figure.Figure at 0x191c18bea58>"
      ]
     },
     "metadata": {},
     "output_type": "display_data"
    }
   ],
   "source": [
    "SomersD(num_buckets = 10\n",
    "        ,df = df\n",
    "        ,score = 'score'\n",
    "        ,target = 'target')"
   ]
  }
 ],
 "metadata": {
  "kernelspec": {
   "display_name": "Python 3",
   "language": "python",
   "name": "python3"
  },
  "language_info": {
   "codemirror_mode": {
    "name": "ipython",
    "version": 3
   },
   "file_extension": ".py",
   "mimetype": "text/x-python",
   "name": "python",
   "nbconvert_exporter": "python",
   "pygments_lexer": "ipython3",
   "version": "3.6.4"
  }
 },
 "nbformat": 4,
 "nbformat_minor": 2
}
