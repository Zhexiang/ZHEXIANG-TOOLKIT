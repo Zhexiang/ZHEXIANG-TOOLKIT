{
 "cells": [
  {
   "cell_type": "code",
   "execution_count": 1,
   "metadata": {},
   "outputs": [],
   "source": [
    "import numpy as np\n",
    "import pandas as pd\n",
    "import matplotlib.pyplot as plt\n",
    "%matplotlib inline"
   ]
  },
  {
   "cell_type": "markdown",
   "metadata": {},
   "source": [
    "### Distribution Comparison using 2 Colors"
   ]
  },
  {
   "cell_type": "markdown",
   "metadata": {},
   "source": [
    "##### This code is used to compare the distribution difference between 2 sub-datasets in overall population (base file) using visualized bar charts\n",
    "It is very useful in Model Usage Expansion. \n",
    "For example, one model was built based on US mainland data, and the new usage is applying this model into Puerto Rico market. This tool will help user to understand how the distribution of Puerto Rico is different from US mainland."
   ]
  },
  {
   "cell_type": "code",
   "execution_count": 2,
   "metadata": {},
   "outputs": [],
   "source": [
    "def Distrn_Compare_2Color(base_file, base_score, target_file1, target_score1, target_file2, target_score2, name1, name2, num_buckets):\n",
    "    \n",
    "# Parameter Instruction:\n",
    "    # base_file: the benchmark file contains target_file1, target_file2 and the base_score column \n",
    "    # base_score: the benchmark score will be used to calculate the cut-off threshold for each bucket\n",
    "    # target_file1: the file has target_score1\n",
    "    # target_score1: the 1st target score used to be compared with benchmark threshold\n",
    "    # target_file2: the file has target_score2\n",
    "    # target_score2: the 2nd target score used to be compared with benchmark threshold\n",
    "    # name1: the legend name of target_score1\n",
    "    # name2: the legend name of target_score2\n",
    "    # num_buckets: the number of buckets in benchmark\n",
    "    \n",
    "    # Step1: Base\n",
    "    base = [0]\n",
    "    for i in range(1,num_buckets):\n",
    "        base.append(np.percentile(base_file[base_score], (100/num_buckets)*i))\n",
    "    \n",
    "    # Step2: Distribution Allocation\n",
    "    target1 = []\n",
    "    bucket1 = []\n",
    "    target2 = []\n",
    "    bucket2 = []\n",
    "    \n",
    "    for i in range(0,num_buckets):\n",
    "        if i < num_buckets-1:\n",
    "            target1_i = (target_file1[target_file1[target_score1] >= base[i]][target_score1].count() - target_file1[target_file1[target_score1] >= base[i+1]][target_score1].count())/len(base_file)\n",
    "            target2_i = (target_file2[target_file2[target_score2] >= base[i]][target_score2].count() - target_file2[target_file2[target_score2] >= base[i+1]][target_score2].count())/len(base_file)\n",
    "        if i == num_buckets-1:\n",
    "            target1_i = target_file1[target_file1[target_score1] >= base[i]][target_score1].count()/len(base_file)\n",
    "            target2_i = target_file2[target_file2[target_score2] >= base[i]][target_score2].count()/len(base_file)\n",
    "            \n",
    "        bucket1.append(target1_i)\n",
    "        bucket2.append(target2_i)\n",
    "\n",
    "    \n",
    "    # Step3: Plot\n",
    "    plt.figure(figsize=(10,4))   \n",
    "    p1 = plt.bar(range(1,num_buckets+1), bucket1)\n",
    "    p2 = plt.bar(range(1,num_buckets+1), bucket2, bottom = bucket1)\n",
    "    \n",
    "    plt.axhline(1/num_buckets, color = 'r')\n",
    "    plt.ylabel('Distribution of Population / Bucket')\n",
    "    plt.xlabel('Bucket')\n",
    "    plt.legend((p1[0],p2[0]), (name1, name2))\n",
    "    \n",
    "    return plt.show()"
   ]
  },
  {
   "cell_type": "markdown",
   "metadata": {},
   "source": [
    "##### Example 1: Base population only contains target file 1 and target file 2"
   ]
  },
  {
   "cell_type": "code",
   "execution_count": 7,
   "metadata": {},
   "outputs": [],
   "source": [
    "df1 = pd.DataFrame(abs(np.random.randn(1000000)), columns = ['score'])\n",
    "df1['region'] = df1['score'].map(lambda x: 'US Mainland')\n",
    "\n",
    "df2 = pd.DataFrame(abs(1.2*np.random.randn(100000)+0.5), columns = ['score'])\n",
    "df2['region'] = df2['score'].map(lambda x: 'Puerto Rico')\n",
    "\n",
    "df = df1.append(df2, ignore_index = True)"
   ]
  },
  {
   "cell_type": "code",
   "execution_count": 8,
   "metadata": {},
   "outputs": [
    {
     "data": {
      "image/png": "[encoded data removed]",
      "text/plain": [
       "<matplotlib.figure.Figure at 0x1f50da98860>"
      ]
     },
     "metadata": {},
     "output_type": "display_data"
    }
   ],
   "source": [
    "Distrn_Compare_2Color(df, 'score', df1, 'score', df2, 'score', 'US Mainland', 'Puerto Rico', 100)"
   ]
  },
  {
   "cell_type": "markdown",
   "metadata": {},
   "source": [
    "#### Example 2: Base population contains more than target file1 and target file 2"
   ]
  },
  {
   "cell_type": "code",
   "execution_count": 13,
   "metadata": {},
   "outputs": [],
   "source": [
    "df1 = pd.DataFrame(abs(np.random.randn(1000000)), columns = ['score'])\n",
    "df1['region'] = df1['score'].map(lambda x: 'US Mainland')\n",
    "\n",
    "df2 = pd.DataFrame(abs(1.2*np.random.randn(100000)+0.5), columns = ['score'])\n",
    "df2['region'] = df2['score'].map(lambda x: 'Puerto Rico')\n",
    "\n",
    "df3 = pd.DataFrame(abs(0.7*np.random.randn(200000)-0.5), columns = ['score'])\n",
    "df3['region'] = df3['score'].map(lambda x: 'Hawaii')\n",
    "\n",
    "df = df1.append(df2, ignore_index = True)\n",
    "df = df.append(df3, ignore_index = True)"
   ]
  },
  {
   "cell_type": "code",
   "execution_count": 14,
   "metadata": {},
   "outputs": [
    {
     "data": {
      "image/png": "[encoded data removed]",
      "text/plain": [
       "<matplotlib.figure.Figure at 0x1f50d9d4358>"
      ]
     },
     "metadata": {},
     "output_type": "display_data"
    }
   ],
   "source": [
    "Distrn_Compare_2Color(df, 'score', df3, 'score', df2, 'score', 'Hawaii', 'Puerto Rico', 100)"
   ]
  }
 ],
 "metadata": {
  "kernelspec": {
   "display_name": "Python 3",
   "language": "python",
   "name": "python3"
  },
  "language_info": {
   "codemirror_mode": {
    "name": "ipython",
    "version": 3
   },
   "file_extension": ".py",
   "mimetype": "text/x-python",
   "name": "python",
   "nbconvert_exporter": "python",
   "pygments_lexer": "ipython3",
   "version": "3.6.4"
  }
 },
 "nbformat": 4,
 "nbformat_minor": 2
}
