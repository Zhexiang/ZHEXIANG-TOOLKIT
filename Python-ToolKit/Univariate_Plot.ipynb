{
 "cells": [
  {
   "cell_type": "code",
   "execution_count": 1,
   "metadata": {},
   "outputs": [],
   "source": [
    "import numpy as np\n",
    "import pandas as pd\n",
    "import matplotlib.pyplot as plt\n",
    "%matplotlib inline"
   ]
  },
  {
   "cell_type": "markdown",
   "metadata": {},
   "source": [
    "### Univariate Chart Plot\n",
    "##### This code is used to create univariate chart of one independent variable against a target variable by line chart. Meanwhile, it will also show the number of observations falls into each independent variable bucket by bar chart"
   ]
  },
  {
   "cell_type": "code",
   "execution_count": 5,
   "metadata": {},
   "outputs": [],
   "source": [
    "def create_bin(input_df, bins=20):\n",
    "    \n",
    "# Parameter Instruction\n",
    "    # input_df: Pandas dataframe format with one independent variable column (labeled 'var') and one target column (labeled 'target')\n",
    "    # bins: Optional, number of bins in the univariate chart\n",
    "    \n",
    "    # Outputs:\n",
    "    # target_means: Series with the average value of 'target' by evenly-spaced 'var' bins\n",
    "    # bin_centers: List of the centers of those variable bin\n",
    "    \n",
    "    binned, edges = pd.cut(input_df['var'], bins, retbins = True)\n",
    "    grouped_data = input_df.groupby(binned)['target']\n",
    "    target_means = grouped_data.mean().fillna(0)  # ------------------ to avoid empty bucket\n",
    "    bin_centers = (edges[:-1] + edges[1:])/2\n",
    "    return target_means, bin_centers\n",
    "\n",
    "\n",
    "def plot_line_hist(target_means, bin_centers, series, title, bins=20):\n",
    "    \n",
    "# Parameter Instruction\n",
    "    # target_means: Series with average target values\n",
    "    # bin_centers: List of bin centers\n",
    "    # series: Pandas series for which to create a histogram\n",
    "    # title: Chart title\n",
    "    # bins: Number of bins for the histogram and line plot\n",
    "    \n",
    "    fig, ax1 = plt.subplots(figsize=(8,5))\n",
    "    ax1.yaxis.tick_right()\n",
    "    ax1.plot(bin_centers, target_means, '-')\n",
    "    \n",
    "    ax2 = ax1.twinx()  # ----------- generate a second plotted object (e.g. histogram) by calling the .twinx() method of ax1.\n",
    "    ax2.hist(series, bins, alpha=0.2, histtype='step', fill = True)\n",
    "    ax2.grid(b = False)\n",
    "    plt.xlim([series.min(), series.max()])\n",
    "    \n",
    "    ax1.set_ylabel('Target rate', fontsize=15)\n",
    "    ax1.set_xlabel('Feature values', fontsize=15)\n",
    "    ax2.set_ylabel('No. of counts', fontsize=15)\n",
    "    plt.title(title, fontsize=15)\n",
    "    \n",
    "    \n",
    "def univariate_plot(var, target, title, bins=20):\n",
    "    \n",
    "# Parameter Instruction\n",
    "    # var: Pandas series or dataframe containing the variable against which to plot target and for which to plot histogram\n",
    "    # target: Pandas series or dataframe containing target values\n",
    "    # bins: Number of bins over which to discretize var\n",
    "\n",
    "    input_df = pd.DataFrame({'var': var, 'target': target})\n",
    "    all_inf_or_nan = input_df.isin([np.inf, np.nan])\n",
    "    input_df = input_df[~all_inf_or_nan]\n",
    "    input_df = input_df.fillna(0)\n",
    "    target_means, bin_centers = create_bin(input_df, bins = bins)\n",
    "    plot_line_hist(target_means, bin_centers, input_df['var'], title, bins = bins)"
   ]
  },
  {
   "cell_type": "markdown",
   "metadata": {},
   "source": [
    "##### Example"
   ]
  },
  {
   "cell_type": "code",
   "execution_count": 3,
   "metadata": {},
   "outputs": [
    {
     "data": {
      "text/html": [
       "<div>\n",
       "<style scoped>\n",
       "    .dataframe tbody tr th:only-of-type {\n",
       "        vertical-align: middle;\n",
       "    }\n",
       "\n",
       "    .dataframe tbody tr th {\n",
       "        vertical-align: top;\n",
       "    }\n",
       "\n",
       "    .dataframe thead th {\n",
       "        text-align: right;\n",
       "    }\n",
       "</style>\n",
       "<table border=\"1\" class=\"dataframe\">\n",
       "  <thead>\n",
       "    <tr style=\"text-align: right;\">\n",
       "      <th></th>\n",
       "      <th>Independent_Variable (X)</th>\n",
       "      <th>Target_Variable (Y)</th>\n",
       "    </tr>\n",
       "  </thead>\n",
       "  <tbody>\n",
       "    <tr>\n",
       "      <th>0</th>\n",
       "      <td>5</td>\n",
       "      <td>8</td>\n",
       "    </tr>\n",
       "    <tr>\n",
       "      <th>1</th>\n",
       "      <td>9</td>\n",
       "      <td>5</td>\n",
       "    </tr>\n",
       "    <tr>\n",
       "      <th>2</th>\n",
       "      <td>0</td>\n",
       "      <td>0</td>\n",
       "    </tr>\n",
       "    <tr>\n",
       "      <th>3</th>\n",
       "      <td>1</td>\n",
       "      <td>7</td>\n",
       "    </tr>\n",
       "    <tr>\n",
       "      <th>4</th>\n",
       "      <td>6</td>\n",
       "      <td>9</td>\n",
       "    </tr>\n",
       "  </tbody>\n",
       "</table>\n",
       "</div>"
      ],
      "text/plain": [
       "   Independent_Variable (X)  Target_Variable (Y)\n",
       "0                         5                    8\n",
       "1                         9                    5\n",
       "2                         0                    0\n",
       "3                         1                    7\n",
       "4                         6                    9"
      ]
     },
     "execution_count": 3,
     "metadata": {},
     "output_type": "execute_result"
    }
   ],
   "source": [
    "np.random.seed(1)\n",
    "df = pd.DataFrame(np.random.randint(low=0, high=10, size=(100,2)),\n",
    "                 columns = ['Independent_Variable (X)', 'Target_Variable (Y)'])\n",
    "df.head()"
   ]
  },
  {
   "cell_type": "code",
   "execution_count": 7,
   "metadata": {},
   "outputs": [
    {
     "data": {
      "image/png": "[encoded data removed]",
      "text/plain": [
       "<matplotlib.figure.Figure at 0x2201cb7ec18>"
      ]
     },
     "metadata": {},
     "output_type": "display_data"
    }
   ],
   "source": [
    "var = df['Independent_Variable (X)']\n",
    "target = df['Target_Variable (Y)']\n",
    "univariate_plot(var = var\n",
    "               ,target = target\n",
    "               ,title = 'Random_Feature Univariate Plot'\n",
    "               ,bins = 10)"
   ]
  }
 ],
 "metadata": {
  "kernelspec": {
   "display_name": "Python 3",
   "language": "python",
   "name": "python3"
  },
  "language_info": {
   "codemirror_mode": {
    "name": "ipython",
    "version": 3
   },
   "file_extension": ".py",
   "mimetype": "text/x-python",
   "name": "python",
   "nbconvert_exporter": "python",
   "pygments_lexer": "ipython3",
   "version": "3.6.4"
  }
 },
 "nbformat": 4,
 "nbformat_minor": 2
}
